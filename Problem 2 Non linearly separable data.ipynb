{
 "cells": [
  {
   "cell_type": "code",
   "execution_count": 8,
   "metadata": {},
   "outputs": [
    {
     "data": {
      "text/plain": [
       "<matplotlib.collections.PathCollection at 0x4d18827370>"
      ]
     },
     "execution_count": 8,
     "metadata": {},
     "output_type": "execute_result"
    },
    {
     "data": {
      "image/png": "[encoded data removed]",
      "text/plain": [
       "<Figure size 432x288 with 1 Axes>"
      ]
     },
     "metadata": {
      "needs_background": "light"
     },
     "output_type": "display_data"
    }
   ],
   "source": [
    "import math as m\n",
    "import numpy as np\n",
    "from matplotlib import pyplot as plt\n",
    "\n",
    "file1 = open(r\"C:\\Users\\lenka\\Desktop\\Pattern Recog\\non_linearly_seperable data\\Class1.txt\",\"r+\")\n",
    "Lines1 = file1.readlines()\n",
    "list1=[]\n",
    "for line in Lines1:\n",
    "    data=(line.strip())\n",
    "    #print(data)\n",
    "    first,sec=data.split(\"\t\")\n",
    "    list1.append((float(first),float(sec)))\n",
    "   \n",
    "\n",
    "file2 = open(r\"C:\\Users\\lenka\\Desktop\\Pattern Recog\\non_linearly_seperable data\\Class2.txt\",\"r+\")\n",
    "Lines2 = file2.readlines()\n",
    "list2=[]\n",
    "for line in Lines2:\n",
    "    data=(line.strip())\n",
    "    #print(data)\n",
    "    first,sec=data.split(\"\t\")\n",
    "    list2.append((float(first),float(sec)))\n",
    "\n",
    "# splitting train data and test data\n",
    "\n",
    "traindatalist1=list1[0:m.floor(0.7*len(list1))]\n",
    "traindatalist2=list2[0:m.floor(0.7*len(list2))]\n",
    "testdatalist=list1[m.ceil(0.7*len(list1)):]+list2[m.ceil(0.7*len(list1)):]\n",
    "def lf(l,i):\n",
    "    li=[]\n",
    "    for j in range(len(l)):\n",
    "        li.append(l[j][i])\n",
    "    return li\n",
    "\n",
    "# Extracting each feature vector to find mean and variance\n",
    "\n",
    "class1vec1=lf(traindatalist1,0)\n",
    "class1vec2=lf(traindatalist1,1)\n",
    "class2vec1=lf(traindatalist2,0)\n",
    "class2vec2=lf(traindatalist2,1)\n",
    "\n",
    "mu11=np.mean(class1vec1)\n",
    "mu12=np.mean(class1vec2)\n",
    "mu21=np.mean(class2vec1)\n",
    "mu22=np.mean(class2vec2)\n",
    "sig11=np.var(class1vec1)\n",
    "sig12=np.var(class1vec2)\n",
    "sig21=np.var(class2vec1)\n",
    "sig22=np.var(class2vec2)\n",
    "varmat1=np.array([sig11,0,0,sig12]).reshape(2,2)\n",
    "varmat2=np.array([sig21,0,0,sig22]).reshape(2,2)\n",
    "varmatdet1=np.linalg.det(varmat1)\n",
    "varmatdet2=np.linalg.det(varmat2)\n",
    "varmatinv1=np.linalg.inv(varmat1)\n",
    "varmatinv2=np.linalg.inv(varmat2)\n",
    "\n",
    "\n",
    "mu1=np.array([mu11,mu12]).reshape(2,1)\n",
    "mu2=np.array([mu21,mu22]).reshape(2,1)\n",
    "\n",
    "\n",
    "testl1=[]\n",
    "testl2=[]\n",
    "testdb=[]\n",
    "def discr(x,mu,varmatinv,det):\n",
    "    m=np.dot(varmatinv,np.subtract(x,mu))\n",
    "    \n",
    "    p=np.log(det**(-0.5))-((0.5)*np.dot((x-mu).T,m))\n",
    "    return p\n",
    "\n",
    "for i in testdatalist:\n",
    "    x=np.array(i).reshape(2,1)\n",
    "    p1=discr(x,mu1,varmatinv1,varmatdet1)\n",
    "    p2=discr(x,mu2,varmatinv2,varmatdet2)\n",
    "    if (p1-p2)>0:\n",
    "        testl1.append(i)\n",
    "    elif (p1-p2)<0:\n",
    "        testl2.append(i)\n",
    "    else:\n",
    "        testdb.append(i)\n",
    "plt.scatter(*zip(*testl1))\n",
    "plt.scatter(*zip(*testl2))"
   ]
  },
  {
   "cell_type": "code",
   "execution_count": null,
   "metadata": {},
   "outputs": [],
   "source": []
  }
 ],
 "metadata": {
  "kernelspec": {
   "display_name": "Python 3",
   "language": "python",
   "name": "python3"
  },
  "language_info": {
   "codemirror_mode": {
    "name": "ipython",
    "version": 3
   },
   "file_extension": ".py",
   "mimetype": "text/x-python",
   "name": "python",
   "nbconvert_exporter": "python",
   "pygments_lexer": "ipython3",
   "version": "3.8.3"
  }
 },
 "nbformat": 4,
 "nbformat_minor": 4
}
